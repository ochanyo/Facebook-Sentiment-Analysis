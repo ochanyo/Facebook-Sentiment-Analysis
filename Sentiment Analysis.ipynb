{
 "cells": [
  {
   "cell_type": "markdown",
   "metadata": {},
   "source": [
    "# SENTIMENT ANALYSIS\n",
    "Sentiment analysis also known as 'opinion mining' is the ability to classify opinions expressed in text and determine whether authors attitude is positive,neutral or negative.\n",
    "This classification is vital as it helps make brand decisions and build brand reputations over time. It also helps monitor customer feedback,brand and brand campaign.\n",
    "In this case we will use facebook comments attributed to Ponea Health account and products offered by Ponea Health.\n",
    "We will attempt to use both the three and five point ordinal scales to classify the comments.\n",
    "Since sentiment analysis involves natural language processing we will download and import a couple of python libraries that we intend to use.\n",
    "We will use a neural network in our attempt to build a model that classifies sentiments."
   ]
  },
  {
   "cell_type": "code",
   "execution_count": 1,
   "metadata": {},
   "outputs": [],
   "source": [
    "#importing requisite libraries\n",
    "import numpy as np\n",
    "import pandas as pd\n",
    "import matplotlib.pyplot as plt\n",
    "%matplotlib inline\n",
    "#from wordcloud import WordCloud\n",
    "from nltk.corpus import stopwords\n",
    "from sklearn.feature_extraction.text import CountVectorizer\n",
    "from keras.preprocessing.text import Tokenizer\n",
    "from keras.preprocessing.sequence import pad_sequences\n",
    "from keras.models import Sequential\n",
    "from keras.layers import Dense,Embedding,LSTM,SpatialDropout1D\n",
    "from sklearn.model_selection import train_test_split\n",
    "from keras.utils.np_utils import to_categorical\n",
    "stop_words=set(stopwords.words('english'))"
   ]
  },
  {
   "cell_type": "code",
   "execution_count": 2,
   "metadata": {},
   "outputs": [],
   "source": [
    "#installing facebook-scraper(extracts posts withouth using the API Key)\n",
    "#pip install facebook_scraper==0.2.49"
   ]
  },
  {
   "cell_type": "code",
   "execution_count": 3,
   "metadata": {},
   "outputs": [],
   "source": [
    "#enabling GPU accelerator if available\n",
    "#DEVICE=torch.device(\"cuda\" if torch.cuda.is_available() else \"cpu\")\n",
    "#print (f'Device Available: DEVICE')"
   ]
  },
  {
   "cell_type": "markdown",
   "metadata": {},
   "source": [
    "### Data Mining and Obtaining Facebook Comments From Ponea Kenya"
   ]
  },
  {
   "cell_type": "code",
   "execution_count": 4,
   "metadata": {},
   "outputs": [
    {
     "name": "stderr",
     "output_type": "stream",
     "text": [
      "c:\\users\\hp\\appdata\\local\\programs\\python\\python39\\lib\\site-packages\\dateparser\\date_parser.py:35: PytzUsageWarning: The localize method is no longer necessary, as this time zone supports the fold attribute (PEP 495). For more details on migrating to a PEP 495-compliant implementation, see https://pytz-deprecation-shim.readthedocs.io/en/latest/migration.html\n",
      "  date_obj = stz.localize(date_obj)\n"
     ]
    },
    {
     "name": "stdout",
     "output_type": "stream",
     "text": [
      "Number of Posts:166\n"
     ]
    }
   ],
   "source": [
    "#getting comments from facebook using facebook_scraper \n",
    "#scrapes posts and comments withou the API Key\n",
    "#'Comments=True/any number limits the comments'\n",
    "#pages are the number of pages the script runs to obtain posts and comments\n",
    "from facebook_scraper import *\n",
    "\n",
    "#obtaining data from facebook using the facebook_scraper\n",
    "listposts=[]\n",
    "for posts in get_posts('PoneaHealth', pages=1000,options={'comments':True}):\n",
    "    listposts.append(posts)\n",
    "print('Number of Posts:{}'.format(len(listposts)))"
   ]
  },
  {
   "cell_type": "code",
   "execution_count": 5,
   "metadata": {},
   "outputs": [],
   "source": [
    "#copying raw data into a dataframe\n",
    "columns=['post_id','time', 'text', 'likes', 'comments', 'shares', 'comments_full']\n",
    "df_posts=pd.DataFrame(listposts)[columns]"
   ]
  },
  {
   "cell_type": "code",
   "execution_count": 6,
   "metadata": {},
   "outputs": [
    {
     "data": {
      "text/html": [
       "<div>\n",
       "<style scoped>\n",
       "    .dataframe tbody tr th:only-of-type {\n",
       "        vertical-align: middle;\n",
       "    }\n",
       "\n",
       "    .dataframe tbody tr th {\n",
       "        vertical-align: top;\n",
       "    }\n",
       "\n",
       "    .dataframe thead th {\n",
       "        text-align: right;\n",
       "    }\n",
       "</style>\n",
       "<table border=\"1\" class=\"dataframe\">\n",
       "  <thead>\n",
       "    <tr style=\"text-align: right;\">\n",
       "      <th></th>\n",
       "      <th>post_id</th>\n",
       "      <th>time</th>\n",
       "      <th>text</th>\n",
       "      <th>likes</th>\n",
       "      <th>comments</th>\n",
       "      <th>shares</th>\n",
       "      <th>comments_full</th>\n",
       "    </tr>\n",
       "  </thead>\n",
       "  <tbody>\n",
       "    <tr>\n",
       "      <th>0</th>\n",
       "      <td>525943392459447</td>\n",
       "      <td>2022-02-04 12:32:47</td>\n",
       "      <td>As we mark World Cancer Day, let's be intentio...</td>\n",
       "      <td>1</td>\n",
       "      <td>0</td>\n",
       "      <td>0</td>\n",
       "      <td>[]</td>\n",
       "    </tr>\n",
       "    <tr>\n",
       "      <th>1</th>\n",
       "      <td>504735794580207</td>\n",
       "      <td>2022-01-01 16:28:34</td>\n",
       "      <td>Happy New Year from all of us at Ponea Health....</td>\n",
       "      <td>4</td>\n",
       "      <td>0</td>\n",
       "      <td>0</td>\n",
       "      <td>[]</td>\n",
       "    </tr>\n",
       "    <tr>\n",
       "      <th>2</th>\n",
       "      <td>500781688308951</td>\n",
       "      <td>2021-12-26 14:15:09</td>\n",
       "      <td>Happy Boxing Day, from Ponea Health.\\n\\n#Ponea...</td>\n",
       "      <td>0</td>\n",
       "      <td>0</td>\n",
       "      <td>0</td>\n",
       "      <td>[]</td>\n",
       "    </tr>\n",
       "    <tr>\n",
       "      <th>3</th>\n",
       "      <td>499993968387723</td>\n",
       "      <td>2021-12-25 11:55:27</td>\n",
       "      <td>Ponea Health wishes you a happy, healthy, and ...</td>\n",
       "      <td>0</td>\n",
       "      <td>0</td>\n",
       "      <td>0</td>\n",
       "      <td>[]</td>\n",
       "    </tr>\n",
       "    <tr>\n",
       "      <th>4</th>\n",
       "      <td>497610005292786</td>\n",
       "      <td>2021-12-21 22:03:37</td>\n",
       "      <td>Join us tomorrow evening as we debunk the Omic...</td>\n",
       "      <td>3</td>\n",
       "      <td>0</td>\n",
       "      <td>0</td>\n",
       "      <td>[]</td>\n",
       "    </tr>\n",
       "    <tr>\n",
       "      <th>...</th>\n",
       "      <td>...</td>\n",
       "      <td>...</td>\n",
       "      <td>...</td>\n",
       "      <td>...</td>\n",
       "      <td>...</td>\n",
       "      <td>...</td>\n",
       "      <td>...</td>\n",
       "    </tr>\n",
       "    <tr>\n",
       "      <th>161</th>\n",
       "      <td>134143058306151</td>\n",
       "      <td>2020-06-12 12:28:12</td>\n",
       "      <td>We are now hiring! Dreaming of creating a star...</td>\n",
       "      <td>6</td>\n",
       "      <td>1</td>\n",
       "      <td>2</td>\n",
       "      <td>[{'comment_id': '141896854197438', 'comment_ur...</td>\n",
       "    </tr>\n",
       "    <tr>\n",
       "      <th>162</th>\n",
       "      <td>106687097718414</td>\n",
       "      <td>2020-05-15 14:36:36</td>\n",
       "      <td>UNLEARNING WHAT YOU THOUGHT YOU KNEW ABOUT COS...</td>\n",
       "      <td>2</td>\n",
       "      <td>0</td>\n",
       "      <td>0</td>\n",
       "      <td>[]</td>\n",
       "    </tr>\n",
       "    <tr>\n",
       "      <th>163</th>\n",
       "      <td>106680087719115</td>\n",
       "      <td>2020-05-15 14:28:20</td>\n",
       "      <td></td>\n",
       "      <td>4</td>\n",
       "      <td>0</td>\n",
       "      <td>0</td>\n",
       "      <td>[]</td>\n",
       "    </tr>\n",
       "    <tr>\n",
       "      <th>164</th>\n",
       "      <td>106678241052633</td>\n",
       "      <td>2020-05-15 14:20:52</td>\n",
       "      <td></td>\n",
       "      <td>4</td>\n",
       "      <td>0</td>\n",
       "      <td>0</td>\n",
       "      <td>[]</td>\n",
       "    </tr>\n",
       "    <tr>\n",
       "      <th>165</th>\n",
       "      <td>106678644385926</td>\n",
       "      <td>2020-05-15 14:20:52</td>\n",
       "      <td></td>\n",
       "      <td>4</td>\n",
       "      <td>0</td>\n",
       "      <td>0</td>\n",
       "      <td>[]</td>\n",
       "    </tr>\n",
       "  </tbody>\n",
       "</table>\n",
       "<p>166 rows × 7 columns</p>\n",
       "</div>"
      ],
      "text/plain": [
       "             post_id                time  \\\n",
       "0    525943392459447 2022-02-04 12:32:47   \n",
       "1    504735794580207 2022-01-01 16:28:34   \n",
       "2    500781688308951 2021-12-26 14:15:09   \n",
       "3    499993968387723 2021-12-25 11:55:27   \n",
       "4    497610005292786 2021-12-21 22:03:37   \n",
       "..               ...                 ...   \n",
       "161  134143058306151 2020-06-12 12:28:12   \n",
       "162  106687097718414 2020-05-15 14:36:36   \n",
       "163  106680087719115 2020-05-15 14:28:20   \n",
       "164  106678241052633 2020-05-15 14:20:52   \n",
       "165  106678644385926 2020-05-15 14:20:52   \n",
       "\n",
       "                                                  text  likes  comments  \\\n",
       "0    As we mark World Cancer Day, let's be intentio...      1         0   \n",
       "1    Happy New Year from all of us at Ponea Health....      4         0   \n",
       "2    Happy Boxing Day, from Ponea Health.\\n\\n#Ponea...      0         0   \n",
       "3    Ponea Health wishes you a happy, healthy, and ...      0         0   \n",
       "4    Join us tomorrow evening as we debunk the Omic...      3         0   \n",
       "..                                                 ...    ...       ...   \n",
       "161  We are now hiring! Dreaming of creating a star...      6         1   \n",
       "162  UNLEARNING WHAT YOU THOUGHT YOU KNEW ABOUT COS...      2         0   \n",
       "163                                                         4         0   \n",
       "164                                                         4         0   \n",
       "165                                                         4         0   \n",
       "\n",
       "     shares                                      comments_full  \n",
       "0         0                                                 []  \n",
       "1         0                                                 []  \n",
       "2         0                                                 []  \n",
       "3         0                                                 []  \n",
       "4         0                                                 []  \n",
       "..      ...                                                ...  \n",
       "161       2  [{'comment_id': '141896854197438', 'comment_ur...  \n",
       "162       0                                                 []  \n",
       "163       0                                                 []  \n",
       "164       0                                                 []  \n",
       "165       0                                                 []  \n",
       "\n",
       "[166 rows x 7 columns]"
      ]
     },
     "execution_count": 6,
     "metadata": {},
     "output_type": "execute_result"
    }
   ],
   "source": [
    "df_posts"
   ]
  },
  {
   "cell_type": "code",
   "execution_count": 7,
   "metadata": {},
   "outputs": [
    {
     "data": {
      "text/plain": [
       "(166, 7)"
      ]
     },
     "execution_count": 7,
     "metadata": {},
     "output_type": "execute_result"
    }
   ],
   "source": [
    "df_posts.shape"
   ]
  },
  {
   "cell_type": "code",
   "execution_count": 8,
   "metadata": {},
   "outputs": [
    {
     "data": {
      "text/html": [
       "<div>\n",
       "<style scoped>\n",
       "    .dataframe tbody tr th:only-of-type {\n",
       "        vertical-align: middle;\n",
       "    }\n",
       "\n",
       "    .dataframe tbody tr th {\n",
       "        vertical-align: top;\n",
       "    }\n",
       "\n",
       "    .dataframe thead th {\n",
       "        text-align: right;\n",
       "    }\n",
       "</style>\n",
       "<table border=\"1\" class=\"dataframe\">\n",
       "  <thead>\n",
       "    <tr style=\"text-align: right;\">\n",
       "      <th></th>\n",
       "      <th>post_id</th>\n",
       "      <th>time</th>\n",
       "      <th>text</th>\n",
       "      <th>likes</th>\n",
       "      <th>comments</th>\n",
       "      <th>shares</th>\n",
       "      <th>comments_full</th>\n",
       "    </tr>\n",
       "  </thead>\n",
       "  <tbody>\n",
       "    <tr>\n",
       "      <th>0</th>\n",
       "      <td>525943392459447</td>\n",
       "      <td>2022-02-04 12:32:47</td>\n",
       "      <td>As we mark World Cancer Day, let's be intentio...</td>\n",
       "      <td>1</td>\n",
       "      <td>0</td>\n",
       "      <td>0</td>\n",
       "      <td>[]</td>\n",
       "    </tr>\n",
       "    <tr>\n",
       "      <th>1</th>\n",
       "      <td>504735794580207</td>\n",
       "      <td>2022-01-01 16:28:34</td>\n",
       "      <td>Happy New Year from all of us at Ponea Health....</td>\n",
       "      <td>4</td>\n",
       "      <td>0</td>\n",
       "      <td>0</td>\n",
       "      <td>[]</td>\n",
       "    </tr>\n",
       "    <tr>\n",
       "      <th>2</th>\n",
       "      <td>500781688308951</td>\n",
       "      <td>2021-12-26 14:15:09</td>\n",
       "      <td>Happy Boxing Day, from Ponea Health.\\n\\n#Ponea...</td>\n",
       "      <td>0</td>\n",
       "      <td>0</td>\n",
       "      <td>0</td>\n",
       "      <td>[]</td>\n",
       "    </tr>\n",
       "    <tr>\n",
       "      <th>3</th>\n",
       "      <td>499993968387723</td>\n",
       "      <td>2021-12-25 11:55:27</td>\n",
       "      <td>Ponea Health wishes you a happy, healthy, and ...</td>\n",
       "      <td>0</td>\n",
       "      <td>0</td>\n",
       "      <td>0</td>\n",
       "      <td>[]</td>\n",
       "    </tr>\n",
       "    <tr>\n",
       "      <th>4</th>\n",
       "      <td>497610005292786</td>\n",
       "      <td>2021-12-21 22:03:37</td>\n",
       "      <td>Join us tomorrow evening as we debunk the Omic...</td>\n",
       "      <td>3</td>\n",
       "      <td>0</td>\n",
       "      <td>0</td>\n",
       "      <td>[]</td>\n",
       "    </tr>\n",
       "  </tbody>\n",
       "</table>\n",
       "</div>"
      ],
      "text/plain": [
       "           post_id                time  \\\n",
       "0  525943392459447 2022-02-04 12:32:47   \n",
       "1  504735794580207 2022-01-01 16:28:34   \n",
       "2  500781688308951 2021-12-26 14:15:09   \n",
       "3  499993968387723 2021-12-25 11:55:27   \n",
       "4  497610005292786 2021-12-21 22:03:37   \n",
       "\n",
       "                                                text  likes  comments  shares  \\\n",
       "0  As we mark World Cancer Day, let's be intentio...      1         0       0   \n",
       "1  Happy New Year from all of us at Ponea Health....      4         0       0   \n",
       "2  Happy Boxing Day, from Ponea Health.\\n\\n#Ponea...      0         0       0   \n",
       "3  Ponea Health wishes you a happy, healthy, and ...      0         0       0   \n",
       "4  Join us tomorrow evening as we debunk the Omic...      3         0       0   \n",
       "\n",
       "  comments_full  \n",
       "0            []  \n",
       "1            []  \n",
       "2            []  \n",
       "3            []  \n",
       "4            []  "
      ]
     },
     "execution_count": 8,
     "metadata": {},
     "output_type": "execute_result"
    }
   ],
   "source": [
    "df_posts.head()"
   ]
  },
  {
   "cell_type": "code",
   "execution_count": 9,
   "metadata": {},
   "outputs": [
    {
     "data": {
      "text/html": [
       "<div>\n",
       "<style scoped>\n",
       "    .dataframe tbody tr th:only-of-type {\n",
       "        vertical-align: middle;\n",
       "    }\n",
       "\n",
       "    .dataframe tbody tr th {\n",
       "        vertical-align: top;\n",
       "    }\n",
       "\n",
       "    .dataframe thead th {\n",
       "        text-align: right;\n",
       "    }\n",
       "</style>\n",
       "<table border=\"1\" class=\"dataframe\">\n",
       "  <thead>\n",
       "    <tr style=\"text-align: right;\">\n",
       "      <th></th>\n",
       "      <th>post_id</th>\n",
       "      <th>time</th>\n",
       "      <th>text</th>\n",
       "      <th>likes</th>\n",
       "      <th>comments</th>\n",
       "      <th>shares</th>\n",
       "      <th>comments_full</th>\n",
       "    </tr>\n",
       "  </thead>\n",
       "  <tbody>\n",
       "    <tr>\n",
       "      <th>161</th>\n",
       "      <td>134143058306151</td>\n",
       "      <td>2020-06-12 12:28:12</td>\n",
       "      <td>We are now hiring! Dreaming of creating a star...</td>\n",
       "      <td>6</td>\n",
       "      <td>1</td>\n",
       "      <td>2</td>\n",
       "      <td>[{'comment_id': '141896854197438', 'comment_ur...</td>\n",
       "    </tr>\n",
       "    <tr>\n",
       "      <th>162</th>\n",
       "      <td>106687097718414</td>\n",
       "      <td>2020-05-15 14:36:36</td>\n",
       "      <td>UNLEARNING WHAT YOU THOUGHT YOU KNEW ABOUT COS...</td>\n",
       "      <td>2</td>\n",
       "      <td>0</td>\n",
       "      <td>0</td>\n",
       "      <td>[]</td>\n",
       "    </tr>\n",
       "    <tr>\n",
       "      <th>163</th>\n",
       "      <td>106680087719115</td>\n",
       "      <td>2020-05-15 14:28:20</td>\n",
       "      <td></td>\n",
       "      <td>4</td>\n",
       "      <td>0</td>\n",
       "      <td>0</td>\n",
       "      <td>[]</td>\n",
       "    </tr>\n",
       "    <tr>\n",
       "      <th>164</th>\n",
       "      <td>106678241052633</td>\n",
       "      <td>2020-05-15 14:20:52</td>\n",
       "      <td></td>\n",
       "      <td>4</td>\n",
       "      <td>0</td>\n",
       "      <td>0</td>\n",
       "      <td>[]</td>\n",
       "    </tr>\n",
       "    <tr>\n",
       "      <th>165</th>\n",
       "      <td>106678644385926</td>\n",
       "      <td>2020-05-15 14:20:52</td>\n",
       "      <td></td>\n",
       "      <td>4</td>\n",
       "      <td>0</td>\n",
       "      <td>0</td>\n",
       "      <td>[]</td>\n",
       "    </tr>\n",
       "  </tbody>\n",
       "</table>\n",
       "</div>"
      ],
      "text/plain": [
       "             post_id                time  \\\n",
       "161  134143058306151 2020-06-12 12:28:12   \n",
       "162  106687097718414 2020-05-15 14:36:36   \n",
       "163  106680087719115 2020-05-15 14:28:20   \n",
       "164  106678241052633 2020-05-15 14:20:52   \n",
       "165  106678644385926 2020-05-15 14:20:52   \n",
       "\n",
       "                                                  text  likes  comments  \\\n",
       "161  We are now hiring! Dreaming of creating a star...      6         1   \n",
       "162  UNLEARNING WHAT YOU THOUGHT YOU KNEW ABOUT COS...      2         0   \n",
       "163                                                         4         0   \n",
       "164                                                         4         0   \n",
       "165                                                         4         0   \n",
       "\n",
       "     shares                                      comments_full  \n",
       "161       2  [{'comment_id': '141896854197438', 'comment_ur...  \n",
       "162       0                                                 []  \n",
       "163       0                                                 []  \n",
       "164       0                                                 []  \n",
       "165       0                                                 []  "
      ]
     },
     "execution_count": 9,
     "metadata": {},
     "output_type": "execute_result"
    }
   ],
   "source": [
    "df_posts.tail()"
   ]
  },
  {
   "cell_type": "code",
   "execution_count": 10,
   "metadata": {},
   "outputs": [],
   "source": [
    "#saving the dataframe as a .csv file\n",
    "df_posts.to_csv('facebook_sentiment_test.csv')"
   ]
  },
  {
   "cell_type": "markdown",
   "metadata": {},
   "source": [
    "# Building the Model to Use\n",
    "In this instance we will build a neural network that we will then use to predict sentiments from the facebook comments. Due to the limited comments extracted from the ponea kenya facebook page, we used dummy data to build the model which will then be used to predict the polarity the facebook comments obtained from ponea kenya facebook page."
   ]
  },
  {
   "cell_type": "code",
   "execution_count": 11,
   "metadata": {},
   "outputs": [],
   "source": [
    "#importing the  and data understanding\n",
    "fb1=pd.read_csv('fb_sentiment_train.csv')\n",
    "#the data picked out has comments and labels. The labels are O,P,N. They classify the sentiments in comments. The data also has rows and the sentiments of the comments are randomly distributed."
   ]
  },
  {
   "cell_type": "markdown",
   "metadata": {},
   "source": [
    "## Data Exploration and Cleaning"
   ]
  },
  {
   "cell_type": "code",
   "execution_count": 12,
   "metadata": {},
   "outputs": [
    {
     "data": {
      "text/html": [
       "<div>\n",
       "<style scoped>\n",
       "    .dataframe tbody tr th:only-of-type {\n",
       "        vertical-align: middle;\n",
       "    }\n",
       "\n",
       "    .dataframe tbody tr th {\n",
       "        vertical-align: top;\n",
       "    }\n",
       "\n",
       "    .dataframe thead th {\n",
       "        text-align: right;\n",
       "    }\n",
       "</style>\n",
       "<table border=\"1\" class=\"dataframe\">\n",
       "  <thead>\n",
       "    <tr style=\"text-align: right;\">\n",
       "      <th></th>\n",
       "      <th>Unnamed: 0</th>\n",
       "      <th>FBPost</th>\n",
       "      <th>Label</th>\n",
       "    </tr>\n",
       "  </thead>\n",
       "  <tbody>\n",
       "    <tr>\n",
       "      <th>0</th>\n",
       "      <td>0</td>\n",
       "      <td>Drug Runners and  a U.S. Senator have somethin...</td>\n",
       "      <td>O</td>\n",
       "    </tr>\n",
       "    <tr>\n",
       "      <th>1</th>\n",
       "      <td>1</td>\n",
       "      <td>Heres a single, to add, to Kindle. Just read t...</td>\n",
       "      <td>O</td>\n",
       "    </tr>\n",
       "    <tr>\n",
       "      <th>2</th>\n",
       "      <td>2</td>\n",
       "      <td>If you tire of Non-Fiction.. Check out http://...</td>\n",
       "      <td>O</td>\n",
       "    </tr>\n",
       "    <tr>\n",
       "      <th>3</th>\n",
       "      <td>3</td>\n",
       "      <td>Ghost of Round Island is supposedly nonfiction.</td>\n",
       "      <td>O</td>\n",
       "    </tr>\n",
       "    <tr>\n",
       "      <th>4</th>\n",
       "      <td>4</td>\n",
       "      <td>Why is Barnes and Nobles version of the Kindle...</td>\n",
       "      <td>N</td>\n",
       "    </tr>\n",
       "  </tbody>\n",
       "</table>\n",
       "</div>"
      ],
      "text/plain": [
       "   Unnamed: 0                                             FBPost Label\n",
       "0           0  Drug Runners and  a U.S. Senator have somethin...     O\n",
       "1           1  Heres a single, to add, to Kindle. Just read t...     O\n",
       "2           2  If you tire of Non-Fiction.. Check out http://...     O\n",
       "3           3    Ghost of Round Island is supposedly nonfiction.     O\n",
       "4           4  Why is Barnes and Nobles version of the Kindle...     N"
      ]
     },
     "execution_count": 12,
     "metadata": {},
     "output_type": "execute_result"
    }
   ],
   "source": [
    "fb1.head()"
   ]
  },
  {
   "cell_type": "code",
   "execution_count": 13,
   "metadata": {},
   "outputs": [
    {
     "data": {
      "text/html": [
       "<div>\n",
       "<style scoped>\n",
       "    .dataframe tbody tr th:only-of-type {\n",
       "        vertical-align: middle;\n",
       "    }\n",
       "\n",
       "    .dataframe tbody tr th {\n",
       "        vertical-align: top;\n",
       "    }\n",
       "\n",
       "    .dataframe thead th {\n",
       "        text-align: right;\n",
       "    }\n",
       "</style>\n",
       "<table border=\"1\" class=\"dataframe\">\n",
       "  <thead>\n",
       "    <tr style=\"text-align: right;\">\n",
       "      <th></th>\n",
       "      <th>Unnamed: 0</th>\n",
       "      <th>FBPost</th>\n",
       "      <th>Label</th>\n",
       "    </tr>\n",
       "  </thead>\n",
       "  <tbody>\n",
       "    <tr>\n",
       "      <th>995</th>\n",
       "      <td>995</td>\n",
       "      <td>I liked it.  Its youth oriented and I think th...</td>\n",
       "      <td>P</td>\n",
       "    </tr>\n",
       "    <tr>\n",
       "      <th>996</th>\n",
       "      <td>996</td>\n",
       "      <td>I think the point of the commercial is that, e...</td>\n",
       "      <td>P</td>\n",
       "    </tr>\n",
       "    <tr>\n",
       "      <th>997</th>\n",
       "      <td>997</td>\n",
       "      <td>Kindle 3 is such a great product. I could not ...</td>\n",
       "      <td>P</td>\n",
       "    </tr>\n",
       "    <tr>\n",
       "      <th>998</th>\n",
       "      <td>998</td>\n",
       "      <td>develop a way to share books!  that is a big d...</td>\n",
       "      <td>N</td>\n",
       "    </tr>\n",
       "    <tr>\n",
       "      <th>999</th>\n",
       "      <td>999</td>\n",
       "      <td>I love my kindle! =)</td>\n",
       "      <td>P</td>\n",
       "    </tr>\n",
       "  </tbody>\n",
       "</table>\n",
       "</div>"
      ],
      "text/plain": [
       "     Unnamed: 0                                             FBPost Label\n",
       "995         995  I liked it.  Its youth oriented and I think th...     P\n",
       "996         996  I think the point of the commercial is that, e...     P\n",
       "997         997  Kindle 3 is such a great product. I could not ...     P\n",
       "998         998  develop a way to share books!  that is a big d...     N\n",
       "999         999                               I love my kindle! =)     P"
      ]
     },
     "execution_count": 13,
     "metadata": {},
     "output_type": "execute_result"
    }
   ],
   "source": [
    "fb1.tail()"
   ]
  },
  {
   "cell_type": "code",
   "execution_count": 14,
   "metadata": {},
   "outputs": [
    {
     "data": {
      "text/plain": [
       "(1000, 3)"
      ]
     },
     "execution_count": 14,
     "metadata": {},
     "output_type": "execute_result"
    }
   ],
   "source": [
    "fb1.shape"
   ]
  },
  {
   "cell_type": "markdown",
   "metadata": {},
   "source": [
    "### Lowercasing Column names"
   ]
  },
  {
   "cell_type": "code",
   "execution_count": 15,
   "metadata": {},
   "outputs": [],
   "source": [
    "fb1.columns=map(str.lower,fb1.columns)"
   ]
  },
  {
   "cell_type": "code",
   "execution_count": 16,
   "metadata": {},
   "outputs": [
    {
     "data": {
      "text/html": [
       "<div>\n",
       "<style scoped>\n",
       "    .dataframe tbody tr th:only-of-type {\n",
       "        vertical-align: middle;\n",
       "    }\n",
       "\n",
       "    .dataframe tbody tr th {\n",
       "        vertical-align: top;\n",
       "    }\n",
       "\n",
       "    .dataframe thead th {\n",
       "        text-align: right;\n",
       "    }\n",
       "</style>\n",
       "<table border=\"1\" class=\"dataframe\">\n",
       "  <thead>\n",
       "    <tr style=\"text-align: right;\">\n",
       "      <th></th>\n",
       "      <th>unnamed: 0</th>\n",
       "      <th>fbpost</th>\n",
       "      <th>label</th>\n",
       "    </tr>\n",
       "  </thead>\n",
       "  <tbody>\n",
       "    <tr>\n",
       "      <th>0</th>\n",
       "      <td>0</td>\n",
       "      <td>Drug Runners and  a U.S. Senator have somethin...</td>\n",
       "      <td>O</td>\n",
       "    </tr>\n",
       "    <tr>\n",
       "      <th>1</th>\n",
       "      <td>1</td>\n",
       "      <td>Heres a single, to add, to Kindle. Just read t...</td>\n",
       "      <td>O</td>\n",
       "    </tr>\n",
       "    <tr>\n",
       "      <th>2</th>\n",
       "      <td>2</td>\n",
       "      <td>If you tire of Non-Fiction.. Check out http://...</td>\n",
       "      <td>O</td>\n",
       "    </tr>\n",
       "    <tr>\n",
       "      <th>3</th>\n",
       "      <td>3</td>\n",
       "      <td>Ghost of Round Island is supposedly nonfiction.</td>\n",
       "      <td>O</td>\n",
       "    </tr>\n",
       "    <tr>\n",
       "      <th>4</th>\n",
       "      <td>4</td>\n",
       "      <td>Why is Barnes and Nobles version of the Kindle...</td>\n",
       "      <td>N</td>\n",
       "    </tr>\n",
       "    <tr>\n",
       "      <th>...</th>\n",
       "      <td>...</td>\n",
       "      <td>...</td>\n",
       "      <td>...</td>\n",
       "    </tr>\n",
       "    <tr>\n",
       "      <th>995</th>\n",
       "      <td>995</td>\n",
       "      <td>I liked it.  Its youth oriented and I think th...</td>\n",
       "      <td>P</td>\n",
       "    </tr>\n",
       "    <tr>\n",
       "      <th>996</th>\n",
       "      <td>996</td>\n",
       "      <td>I think the point of the commercial is that, e...</td>\n",
       "      <td>P</td>\n",
       "    </tr>\n",
       "    <tr>\n",
       "      <th>997</th>\n",
       "      <td>997</td>\n",
       "      <td>Kindle 3 is such a great product. I could not ...</td>\n",
       "      <td>P</td>\n",
       "    </tr>\n",
       "    <tr>\n",
       "      <th>998</th>\n",
       "      <td>998</td>\n",
       "      <td>develop a way to share books!  that is a big d...</td>\n",
       "      <td>N</td>\n",
       "    </tr>\n",
       "    <tr>\n",
       "      <th>999</th>\n",
       "      <td>999</td>\n",
       "      <td>I love my kindle! =)</td>\n",
       "      <td>P</td>\n",
       "    </tr>\n",
       "  </tbody>\n",
       "</table>\n",
       "<p>1000 rows × 3 columns</p>\n",
       "</div>"
      ],
      "text/plain": [
       "     unnamed: 0                                             fbpost label\n",
       "0             0  Drug Runners and  a U.S. Senator have somethin...     O\n",
       "1             1  Heres a single, to add, to Kindle. Just read t...     O\n",
       "2             2  If you tire of Non-Fiction.. Check out http://...     O\n",
       "3             3    Ghost of Round Island is supposedly nonfiction.     O\n",
       "4             4  Why is Barnes and Nobles version of the Kindle...     N\n",
       "..          ...                                                ...   ...\n",
       "995         995  I liked it.  Its youth oriented and I think th...     P\n",
       "996         996  I think the point of the commercial is that, e...     P\n",
       "997         997  Kindle 3 is such a great product. I could not ...     P\n",
       "998         998  develop a way to share books!  that is a big d...     N\n",
       "999         999                               I love my kindle! =)     P\n",
       "\n",
       "[1000 rows x 3 columns]"
      ]
     },
     "execution_count": 16,
     "metadata": {},
     "output_type": "execute_result"
    }
   ],
   "source": [
    "fb1"
   ]
  },
  {
   "cell_type": "code",
   "execution_count": 17,
   "metadata": {},
   "outputs": [
    {
     "data": {
      "text/plain": [
       "unnamed: 0    0\n",
       "fbpost        0\n",
       "label         0\n",
       "dtype: int64"
      ]
     },
     "execution_count": 17,
     "metadata": {},
     "output_type": "execute_result"
    }
   ],
   "source": [
    "#checking for null values and replacing them\n",
    "fb1.isnull().sum()"
   ]
  },
  {
   "cell_type": "code",
   "execution_count": 18,
   "metadata": {},
   "outputs": [],
   "source": [
    "#checking for null,NaN,\n",
    "#function to replace/remove null and NaN values and reconverting it df\n",
    "#apply family\n",
    "#explore visualization to describe data; tree maps,word cloud,network"
   ]
  },
  {
   "cell_type": "markdown",
   "metadata": {},
   "source": [
    "### Lowercasing Comments and Removing Symbols Using RegEx"
   ]
  },
  {
   "cell_type": "code",
   "execution_count": 19,
   "metadata": {},
   "outputs": [],
   "source": [
    "#we will lowercase the text in the comments and remove symbols using python library Regular Expressions\n",
    "import re"
   ]
  },
  {
   "cell_type": "code",
   "execution_count": 20,
   "metadata": {},
   "outputs": [],
   "source": [
    "fb1['fbpost']=fb1['fbpost'].apply(lambda x:x.lower())\n",
    "fb1['fbpost']=fb1['fbpost'].apply((lambda x:re.sub('[^a-zA-z0-9\\s]','',x)))"
   ]
  },
  {
   "cell_type": "code",
   "execution_count": 21,
   "metadata": {},
   "outputs": [
    {
     "data": {
      "text/html": [
       "<div>\n",
       "<style scoped>\n",
       "    .dataframe tbody tr th:only-of-type {\n",
       "        vertical-align: middle;\n",
       "    }\n",
       "\n",
       "    .dataframe tbody tr th {\n",
       "        vertical-align: top;\n",
       "    }\n",
       "\n",
       "    .dataframe thead th {\n",
       "        text-align: right;\n",
       "    }\n",
       "</style>\n",
       "<table border=\"1\" class=\"dataframe\">\n",
       "  <thead>\n",
       "    <tr style=\"text-align: right;\">\n",
       "      <th></th>\n",
       "      <th>unnamed: 0</th>\n",
       "      <th>fbpost</th>\n",
       "      <th>label</th>\n",
       "    </tr>\n",
       "  </thead>\n",
       "  <tbody>\n",
       "    <tr>\n",
       "      <th>0</th>\n",
       "      <td>0</td>\n",
       "      <td>drug runners and  a us senator have something ...</td>\n",
       "      <td>O</td>\n",
       "    </tr>\n",
       "    <tr>\n",
       "      <th>1</th>\n",
       "      <td>1</td>\n",
       "      <td>heres a single to add to kindle just read this...</td>\n",
       "      <td>O</td>\n",
       "    </tr>\n",
       "    <tr>\n",
       "      <th>2</th>\n",
       "      <td>2</td>\n",
       "      <td>if you tire of nonfiction check out httpwwwama...</td>\n",
       "      <td>O</td>\n",
       "    </tr>\n",
       "    <tr>\n",
       "      <th>3</th>\n",
       "      <td>3</td>\n",
       "      <td>ghost of round island is supposedly nonfiction</td>\n",
       "      <td>O</td>\n",
       "    </tr>\n",
       "    <tr>\n",
       "      <th>4</th>\n",
       "      <td>4</td>\n",
       "      <td>why is barnes and nobles version of the kindle...</td>\n",
       "      <td>N</td>\n",
       "    </tr>\n",
       "    <tr>\n",
       "      <th>...</th>\n",
       "      <td>...</td>\n",
       "      <td>...</td>\n",
       "      <td>...</td>\n",
       "    </tr>\n",
       "    <tr>\n",
       "      <th>995</th>\n",
       "      <td>995</td>\n",
       "      <td>i liked it  its youth oriented and i think thi...</td>\n",
       "      <td>P</td>\n",
       "    </tr>\n",
       "    <tr>\n",
       "      <th>996</th>\n",
       "      <td>996</td>\n",
       "      <td>i think the point of the commercial is that ev...</td>\n",
       "      <td>P</td>\n",
       "    </tr>\n",
       "    <tr>\n",
       "      <th>997</th>\n",
       "      <td>997</td>\n",
       "      <td>kindle 3 is such a great product i could not b...</td>\n",
       "      <td>P</td>\n",
       "    </tr>\n",
       "    <tr>\n",
       "      <th>998</th>\n",
       "      <td>998</td>\n",
       "      <td>develop a way to share books  that is a big dr...</td>\n",
       "      <td>N</td>\n",
       "    </tr>\n",
       "    <tr>\n",
       "      <th>999</th>\n",
       "      <td>999</td>\n",
       "      <td>i love my kindle</td>\n",
       "      <td>P</td>\n",
       "    </tr>\n",
       "  </tbody>\n",
       "</table>\n",
       "<p>1000 rows × 3 columns</p>\n",
       "</div>"
      ],
      "text/plain": [
       "     unnamed: 0                                             fbpost label\n",
       "0             0  drug runners and  a us senator have something ...     O\n",
       "1             1  heres a single to add to kindle just read this...     O\n",
       "2             2  if you tire of nonfiction check out httpwwwama...     O\n",
       "3             3     ghost of round island is supposedly nonfiction     O\n",
       "4             4  why is barnes and nobles version of the kindle...     N\n",
       "..          ...                                                ...   ...\n",
       "995         995  i liked it  its youth oriented and i think thi...     P\n",
       "996         996  i think the point of the commercial is that ev...     P\n",
       "997         997  kindle 3 is such a great product i could not b...     P\n",
       "998         998  develop a way to share books  that is a big dr...     N\n",
       "999         999                                  i love my kindle      P\n",
       "\n",
       "[1000 rows x 3 columns]"
      ]
     },
     "execution_count": 21,
     "metadata": {},
     "output_type": "execute_result"
    }
   ],
   "source": [
    "#data after cleaning\n",
    "fb1"
   ]
  },
  {
   "cell_type": "markdown",
   "metadata": {},
   "source": [
    "### Tokenizing The Comments\n",
    "Language in its original form cannot be accurately processed by a computer, so we need to breakdown the language to make it easier for the computer to understand. The first part of making sense of the comments data is by a process called tokenization which is splitting strings into smaller parts called tokens.\n",
    "A token is a sequence of characters in text that serves as a unit. Based on how the tokens are created , they may consist of words, emoticons, hashtags, links, or even individual characters. A basic way of breaking language into tokens is by splitting the text based on whitespace and punctuation.\n",
    "In this instance we will tokenize using whitespaces."
   ]
  },
  {
   "cell_type": "code",
   "execution_count": 22,
   "metadata": {},
   "outputs": [],
   "source": [
    "max_fatures = 2000\n",
    "tokenizer = Tokenizer(num_words=max_fatures, split=' ')\n",
    "tokenizer.fit_on_texts(fb1['fbpost'].values)\n",
    "X = tokenizer.texts_to_sequences(fb1['fbpost'].values)\n",
    "X = pad_sequences(X)"
   ]
  },
  {
   "cell_type": "markdown",
   "metadata": {},
   "source": [
    "##### Label Preparation"
   ]
  },
  {
   "cell_type": "code",
   "execution_count": 23,
   "metadata": {},
   "outputs": [
    {
     "data": {
      "text/plain": [
       "P    641\n",
       "O    280\n",
       "N     79\n",
       "Name: label, dtype: int64"
      ]
     },
     "execution_count": 23,
     "metadata": {},
     "output_type": "execute_result"
    }
   ],
   "source": [
    "#checking labels\n",
    "fb1.label.value_counts()"
   ]
  },
  {
   "cell_type": "code",
   "execution_count": 24,
   "metadata": {},
   "outputs": [
    {
     "name": "stdout",
     "output_type": "stream",
     "text": [
      "(850, 205) (850, 3)\n",
      "(150, 205) (850, 3)\n"
     ]
    }
   ],
   "source": [
    "Y=pd.get_dummies(fb1['label']).values\n",
    "X_train,X_test,Y_train,Y_test=train_test_split(X,Y,test_size=0.15,random_state=1)\n",
    "print(X_train.shape,Y_train.shape)\n",
    "print(X_test.shape,Y_train.shape)"
   ]
  },
  {
   "cell_type": "markdown",
   "metadata": {},
   "source": [
    "#### Building the Neural Network"
   ]
  },
  {
   "cell_type": "code",
   "execution_count": 25,
   "metadata": {},
   "outputs": [],
   "source": [
    "#Preparing the Algorithm\n",
    "#Sequential Model; Model type-LSTM model"
   ]
  },
  {
   "cell_type": "code",
   "execution_count": 29,
   "metadata": {},
   "outputs": [
    {
     "name": "stdout",
     "output_type": "stream",
     "text": [
      "Model: \"sequential_1\"\n",
      "_________________________________________________________________\n",
      " Layer (type)                Output Shape              Param #   \n",
      "=================================================================\n",
      " embedding_1 (Embedding)     (None, 205, 200)          400000    \n",
      "                                                                 \n",
      " spatial_dropout1d_1 (Spatia  (None, 205, 200)         0         \n",
      " lDropout1D)                                                     \n",
      "                                                                 \n",
      " lstm_1 (LSTM)               (None, 200)               320800    \n",
      "                                                                 \n",
      " dense_1 (Dense)             (None, 3)                 603       \n",
      "                                                                 \n",
      "=================================================================\n",
      "Total params: 721,403\n",
      "Trainable params: 721,403\n",
      "Non-trainable params: 0\n",
      "_________________________________________________________________\n",
      "None\n"
     ]
    }
   ],
   "source": [
    "embed_dim=200\n",
    "lstm_out=200\n",
    "model=Sequential()\n",
    "model.add(Embedding(max_fatures,embed_dim,input_length=X.shape[1]))\n",
    "model.add(SpatialDropout1D(0.4))\n",
    "model.add(LSTM(lstm_out,dropout=0.2,recurrent_dropout=0.2)) #modifying output layers and fully conncected layers\n",
    "model.add(Dense(3,activation='softmax')) #modify these.\n",
    "model.compile(loss='categorical_crossentropy',optimizer='adam',metrics=['accuracy'])\n",
    "print(model.summary())\n",
    "#improve on depth of network since its a deep learning model.\n",
    "#re-use my code on bayesian as done in class.\n",
    "#transfer learning-\n",
    "#leverage on pre-trained models in keras that i can import"
   ]
  },
  {
   "cell_type": "code",
   "execution_count": null,
   "metadata": {},
   "outputs": [
    {
     "name": "stdout",
     "output_type": "stream",
     "text": [
      "Epoch 1/7\n",
      "27/27 - 29s - loss: 0.8902 - accuracy: 0.6176 - 29s/epoch - 1s/step\n",
      "Epoch 2/7\n",
      "27/27 - 28s - loss: 0.7659 - accuracy: 0.6482 - 28s/epoch - 1s/step\n",
      "Epoch 3/7\n",
      "27/27 - 29s - loss: 0.5841 - accuracy: 0.7682 - 29s/epoch - 1s/step\n",
      "Epoch 4/7\n",
      "27/27 - 27s - loss: 0.4476 - accuracy: 0.8388 - 27s/epoch - 1s/step\n",
      "Epoch 5/7\n",
      "27/27 - 28s - loss: 0.3645 - accuracy: 0.8800 - 28s/epoch - 1s/step\n",
      "Epoch 6/7\n",
      "27/27 - 27s - loss: 0.2588 - accuracy: 0.9282 - 27s/epoch - 987ms/step\n",
      "Epoch 7/7\n"
     ]
    }
   ],
   "source": [
    "#Training The Model\n",
    "batch_size=32\n",
    "hist=model.fit(X_train,Y_train,epochs=7,batch_size=batch_size,verbose=2)"
   ]
  },
  {
   "cell_type": "code",
   "execution_count": 28,
   "metadata": {},
   "outputs": [
    {
     "data": {
      "image/png": "[encoded data removed]",
      "text/plain": [
       "<Figure size 720x720 with 1 Axes>"
      ]
     },
     "metadata": {
      "needs_background": "light"
     },
     "output_type": "display_data"
    }
   ],
   "source": [
    "#Ploting a histogram over the epochs\n",
    "history=pd.DataFrame(hist.history)\n",
    "plt.figure(figsize=(10,10))\n",
    "plt.plot(history['loss']);\n",
    "plt.plot(history['accuracy']);\n",
    "plt.title('Loss and Accuracy of Model');\n",
    "plt.savefig('Loss and Accuracy of Model Histogram.png');\n",
    "plt.show();"
   ]
  },
  {
   "cell_type": "code",
   "execution_count": null,
   "metadata": {},
   "outputs": [],
   "source": []
  }
 ],
 "metadata": {
  "kernelspec": {
   "display_name": "Python 3",
   "language": "python",
   "name": "python3"
  },
  "language_info": {
   "codemirror_mode": {
    "name": "ipython",
    "version": 3
   },
   "file_extension": ".py",
   "mimetype": "text/x-python",
   "name": "python",
   "nbconvert_exporter": "python",
   "pygments_lexer": "ipython3",
   "version": "3.9.0"
  }
 },
 "nbformat": 4,
 "nbformat_minor": 4
}
